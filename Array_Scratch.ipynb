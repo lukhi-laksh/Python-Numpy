{
 "cells": [
  {
   "cell_type": "markdown",
   "id": "c85e27fc",
   "metadata": {},
   "source": [
    "# Creating array from scratch"
   ]
  },
  {
   "cell_type": "code",
   "execution_count": 51,
   "id": "d31312df",
   "metadata": {},
   "outputs": [
    {
     "name": "stdout",
     "output_type": "stream",
     "text": [
      "Zeros Array: \n",
      " [[0. 0. 0. 0.]\n",
      " [0. 0. 0. 0.]\n",
      " [0. 0. 0. 0.]]\n"
     ]
    }
   ],
   "source": [
    "import numpy as np\n",
    "\n",
    "zeros = np.zeros((3, 4))\n",
    "print(\"Zeros Array: \\n\", zeros)\n",
    "\n"
   ]
  },
  {
   "cell_type": "code",
   "execution_count": 52,
   "id": "5bd81462",
   "metadata": {},
   "outputs": [
    {
     "name": "stdout",
     "output_type": "stream",
     "text": [
      "Ones Array: \n",
      " [[1. 1. 1.]\n",
      " [1. 1. 1.]]\n"
     ]
    }
   ],
   "source": [
    "ones = np.ones((2, 3))\n",
    "print(\"Ones Array: \\n\", ones)"
   ]
  },
  {
   "cell_type": "code",
   "execution_count": 53,
   "id": "8bdc9e0a",
   "metadata": {},
   "outputs": [
    {
     "name": "stdout",
     "output_type": "stream",
     "text": [
      "[[7 7 7]\n",
      " [7 7 7]\n",
      " [7 7 7]]\n"
     ]
    }
   ],
   "source": [
    "full = np.full((3, 3), 7)\n",
    "print(full)"
   ]
  },
  {
   "cell_type": "code",
   "execution_count": 54,
   "id": "f7f77032",
   "metadata": {},
   "outputs": [
    {
     "name": "stdout",
     "output_type": "stream",
     "text": [
      "[[0.69244134 0.2102028  0.77380864]\n",
      " [0.7773961  0.85381101 0.93774499]\n",
      " [0.43594706 0.61518001 0.84424716]]\n"
     ]
    }
   ],
   "source": [
    "random = np.random.random((3,3))\n",
    "print(random)"
   ]
  },
  {
   "cell_type": "code",
   "execution_count": 55,
   "id": "e2bb85bb",
   "metadata": {},
   "outputs": [
    {
     "name": "stdout",
     "output_type": "stream",
     "text": [
      "[ 0  2  4  6  8 10 12 14 16 18]\n"
     ]
    }
   ],
   "source": [
    "sequence = np.arange(0, 20, 2)\n",
    "print(sequence)"
   ]
  },
  {
   "cell_type": "markdown",
   "id": "c091b0ce",
   "metadata": {},
   "source": [
    "### Vector, Matrix and Vector"
   ]
  },
  {
   "cell_type": "code",
   "execution_count": 56,
   "id": "6697e851",
   "metadata": {},
   "outputs": [
    {
     "name": "stdout",
     "output_type": "stream",
     "text": [
      "[1 2 3 4]\n"
     ]
    }
   ],
   "source": [
    "vector = np.array([1, 2, 3, 4])\n",
    "print(vector)"
   ]
  },
  {
   "cell_type": "code",
   "execution_count": 57,
   "id": "faec724b",
   "metadata": {},
   "outputs": [
    {
     "name": "stdout",
     "output_type": "stream",
     "text": [
      "[[1 2 3]\n",
      " [4 5 6]\n",
      " [7 8 9]]\n"
     ]
    }
   ],
   "source": [
    "Matrix = np.array([[1, 2, 3],\n",
    "                  [4, 5, 6],\n",
    "                  [7, 8, 9]])\n",
    "print(Matrix)"
   ]
  },
  {
   "cell_type": "code",
   "execution_count": 58,
   "id": "ef905fe7",
   "metadata": {},
   "outputs": [
    {
     "name": "stdout",
     "output_type": "stream",
     "text": [
      "[[[1 2]\n",
      "  [2 3]]\n",
      "\n",
      " [[5 6]\n",
      "  [6 7]]]\n"
     ]
    }
   ],
   "source": [
    "tensor = np.array([[[1, 2], [2, 3]],\n",
    "                    [[5, 6], [6, 7]]])\n",
    "print(tensor)"
   ]
  },
  {
   "cell_type": "markdown",
   "id": "cf4b4355",
   "metadata": {},
   "source": [
    "### Array Properties"
   ]
  },
  {
   "cell_type": "code",
   "execution_count": 59,
   "id": "cbd82bb6",
   "metadata": {},
   "outputs": [
    {
     "name": "stdout",
     "output_type": "stream",
     "text": [
      "[[1 2 3]\n",
      " [4 5 6]\n",
      " [7 8 9]]\n"
     ]
    }
   ],
   "source": [
    "arr = np.array([[1, 2, 3],\n",
    "                [4, 5, 6],\n",
    "                [7, 8, 9]])\n",
    "print(arr)"
   ]
  },
  {
   "cell_type": "code",
   "execution_count": 60,
   "id": "cf21bf5b",
   "metadata": {},
   "outputs": [
    {
     "name": "stdout",
     "output_type": "stream",
     "text": [
      "shape: (3, 3)\n",
      "daimenstion: 2\n",
      "size: 9\n",
      "data type:  int64\n"
     ]
    }
   ],
   "source": [
    "print(\"shape:\", arr.shape)\n",
    "print(\"daimenstion:\", arr.ndim)\n",
    "print(\"size:\", arr.size)\n",
    "print(\"data type: \", arr.dtype)"
   ]
  },
  {
   "cell_type": "markdown",
   "id": "1e38710b",
   "metadata": {},
   "source": [
    "### Array Reshaping"
   ]
  },
  {
   "cell_type": "code",
   "execution_count": 75,
   "id": "0d57e354",
   "metadata": {},
   "outputs": [
    {
     "name": "stdout",
     "output_type": "stream",
     "text": [
      "Original Array:  [ 0  1  2  3  4  5  6  7  8  9 10 11 12 13 14]\n",
      "[[ 0  1  2  3  4]\n",
      " [ 5  6  7  8  9]\n",
      " [10 11 12 13 14]]\n",
      "[ 0  1  2  3  4  5  6  7  8  9 10 11 12 13 14]\n",
      "[ 0  1  2  3  4  5  6  7  8  9 10 11 12 13 14]\n",
      "[[ 0  5 10]\n",
      " [ 1  6 11]\n",
      " [ 2  7 12]\n",
      " [ 3  8 13]\n",
      " [ 4  9 14]]\n"
     ]
    }
   ],
   "source": [
    "array = np.arange(0, 15)\n",
    "print(\"Original Array: \", array)\n",
    "\n",
    "reshaped = array.reshape((3, 5))\n",
    "print(reshaped)\n",
    "\n",
    "flattended = reshaped.flatten()\n",
    "print(flattended)\n",
    "\n",
    "# Return view, instend of copy\n",
    "raveld = reshaped.ravel()\n",
    "print(raveld)\n",
    "\n",
    "# Transpose\n",
    "transpose = reshaped.T\n",
    "print(transpose)"
   ]
  }
 ],
 "metadata": {
  "kernelspec": {
   "display_name": "Python 3.13.3 (venv)",
   "language": "python",
   "name": "python3133"
  },
  "language_info": {
   "codemirror_mode": {
    "name": "ipython",
    "version": 3
   },
   "file_extension": ".py",
   "mimetype": "text/x-python",
   "name": "python",
   "nbconvert_exporter": "python",
   "pygments_lexer": "ipython3",
   "version": "3.13.3"
  }
 },
 "nbformat": 4,
 "nbformat_minor": 5
}
