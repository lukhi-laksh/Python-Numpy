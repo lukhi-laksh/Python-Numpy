{
 "cells": [
  {
   "cell_type": "markdown",
   "id": "f594fa07",
   "metadata": {},
   "source": [
    "# Array Operations"
   ]
  },
  {
   "cell_type": "code",
   "execution_count": 131,
   "id": "49ae4a69",
   "metadata": {},
   "outputs": [],
   "source": [
    "import numpy as np"
   ]
  },
  {
   "cell_type": "code",
   "execution_count": 132,
   "id": "12ed175f",
   "metadata": {},
   "outputs": [
    {
     "name": "stdout",
     "output_type": "stream",
     "text": [
      "Basic Slicing [3 4 5 6 7]\n",
      "With step [3 5 7]\n",
      "Nagetive Indexing 7\n"
     ]
    }
   ],
   "source": [
    "arr = np.array([1, 2, 3, 4, 5, 6, 7, 8, 9])\n",
    "\n",
    "print(\"Basic Slicing\", arr[2:7])\n",
    "\n",
    "print(\"With step\", arr[2:8:2])\n",
    "\n",
    "print(\"Nagetive Indexing\", arr[-3])"
   ]
  },
  {
   "cell_type": "code",
   "execution_count": 133,
   "id": "9ca03f02",
   "metadata": {},
   "outputs": [
    {
     "name": "stdout",
     "output_type": "stream",
     "text": [
      "[[1 2 3]\n",
      " [4 5 6]\n",
      " [7 8 9]]\n",
      "Specific Element:  6\n",
      "Entire Row:  [7 8 9]\n",
      "Entire Column:  [2 5 8]\n"
     ]
    }
   ],
   "source": [
    "arr_2d = np.array([[1, 2, 3],\n",
    "                   [4, 5, 6],\n",
    "                   [7, 8, 9]])\n",
    "print(arr_2d)\n",
    "\n",
    "print(\"Specific Element: \", arr_2d[1, 2])\n",
    "\n",
    "print(\"Entire Row: \", arr_2d[2])\n",
    "\n",
    "print(\"Entire Column: \", arr_2d[:, 1])\n"
   ]
  },
  {
   "cell_type": "markdown",
   "id": "71524f29",
   "metadata": {},
   "source": [
    "## Sorting"
   ]
  },
  {
   "cell_type": "code",
   "execution_count": 134,
   "id": "e10413f3",
   "metadata": {},
   "outputs": [
    {
     "name": "stdout",
     "output_type": "stream",
     "text": [
      "Soreted Array:  [1 2 3 4 5 6 7 8 9]\n",
      "[[3 1]\n",
      " [2 1]\n",
      " [2 3]]\n",
      "Sorted Column [[2 1]\n",
      " [2 1]\n",
      " [3 3]]\n",
      "Sorted Row [[1 3]\n",
      " [1 2]\n",
      " [2 3]]\n"
     ]
    }
   ],
   "source": [
    "unsorted = np.array([3, 2, 6, 5, 1, 4, 7, 9, 8])\n",
    "print(\"Soreted Array: \", np.sort(unsorted))\n",
    "\n",
    "array_2d = np.array([[3, 1],\n",
    "                     [2, 1],\n",
    "                     [2, 3]])\n",
    "print(array_2d)\n",
    "\n",
    "print(\"Sorted Column\", np.sort(array_2d, axis=0))\n",
    "\n",
    "print(\"Sorted Row\", np.sort(array_2d, axis=1))"
   ]
  },
  {
   "cell_type": "markdown",
   "id": "d8fe4329",
   "metadata": {},
   "source": [
    "## Filter Array"
   ]
  },
  {
   "cell_type": "code",
   "execution_count": 135,
   "id": "03a5c656",
   "metadata": {},
   "outputs": [
    {
     "name": "stdout",
     "output_type": "stream",
     "text": [
      "Even Numbers:  [ 2  4  6  8 10]\n"
     ]
    }
   ],
   "source": [
    "Numbers = np.array([1, 2, 3, 4, 5, 6, 7, 8, 9, 10])\n",
    "even_number = Numbers[Numbers % 2 == 0]\n",
    "print(\"Even Numbers: \", even_number)"
   ]
  },
  {
   "cell_type": "markdown",
   "id": "7bfe05b3",
   "metadata": {},
   "source": [
    "## Filter With Mask"
   ]
  },
  {
   "cell_type": "code",
   "execution_count": 136,
   "id": "37a5eb0f",
   "metadata": {},
   "outputs": [
    {
     "name": "stdout",
     "output_type": "stream",
     "text": [
      "Numbers greter than 5:  [ 6  7  8  9 10]\n"
     ]
    }
   ],
   "source": [
    "mask = Numbers > 5\n",
    "print(\"Numbers greter than 5: \", Numbers[mask])"
   ]
  },
  {
   "cell_type": "markdown",
   "id": "3336b5f7",
   "metadata": {},
   "source": [
    "## Fancy Indexing Vs np.where()"
   ]
  },
  {
   "cell_type": "code",
   "execution_count": 137,
   "id": "9e7902d6",
   "metadata": {},
   "outputs": [
    {
     "name": "stdout",
     "output_type": "stream",
     "text": [
      "[1 3 5]\n",
      "[ 6  7  8  9 10]\n"
     ]
    }
   ],
   "source": [
    "indices = [0, 2, 4]\n",
    "print(Numbers[indices])\n",
    "\n",
    "where_result = np.where(Numbers > 5)\n",
    "print(Numbers[where_result])"
   ]
  },
  {
   "cell_type": "code",
   "execution_count": 138,
   "id": "0eb68780",
   "metadata": {},
   "outputs": [
    {
     "name": "stdout",
     "output_type": "stream",
     "text": [
      "[ 1  2  3  4  5 12 14 16 18 20]\n"
     ]
    }
   ],
   "source": [
    "condition_array = np.where(Numbers > 5, Numbers*2, Numbers)\n",
    "print(condition_array)"
   ]
  },
  {
   "cell_type": "markdown",
   "id": "70eb4e35",
   "metadata": {},
   "source": [
    "## Adding and Removing Data"
   ]
  },
  {
   "cell_type": "code",
   "execution_count": 139,
   "id": "09eef5a4",
   "metadata": {},
   "outputs": [
    {
     "name": "stdout",
     "output_type": "stream",
     "text": [
      "[1 2 3 4 5 6]\n"
     ]
    }
   ],
   "source": [
    "arr1 = np.array([1, 2, 3])\n",
    "arr2 = np.array([4, 5, 6])\n",
    "\n",
    "combined = np.concatenate((arr1, arr2))\n",
    "print(combined)"
   ]
  },
  {
   "cell_type": "markdown",
   "id": "c39ef490",
   "metadata": {},
   "source": [
    "## Array Compatibility"
   ]
  },
  {
   "cell_type": "code",
   "execution_count": 140,
   "id": "3434fef1",
   "metadata": {},
   "outputs": [
    {
     "name": "stdout",
     "output_type": "stream",
     "text": [
      "Compatibility Shape:  True\n"
     ]
    }
   ],
   "source": [
    "a = np.array([1, 2, 3])\n",
    "b = np.array([4, 5, 6])\n",
    "c = np.array([7, 8, 9])\n",
    "\n",
    "print(\"Compatibility Shape: \", a.shape == b.shape)"
   ]
  },
  {
   "cell_type": "code",
   "execution_count": 141,
   "id": "56dab647",
   "metadata": {},
   "outputs": [
    {
     "name": "stdout",
     "output_type": "stream",
     "text": [
      "[[1 2]\n",
      " [3 4]] \n",
      "\n",
      "[[1 2]\n",
      " [3 4]\n",
      " [5 6]]\n",
      "[[1 2 8]\n",
      " [3 4 7]]\n"
     ]
    }
   ],
   "source": [
    "original = np.array([[1, 2],\n",
    "                     [3, 4]])\n",
    "new_row = np.array([5, 6])\n",
    "\n",
    "with_new_row = np.vstack((original, new_row))\n",
    "print(original, \"\\n\")\n",
    "print(with_new_row)\n",
    "\n",
    "new_col = np.array(([8], [7]))\n",
    "with_new_col = np.hstack((original, new_col))\n",
    "print(with_new_col)"
   ]
  },
  {
   "cell_type": "markdown",
   "id": "c17e3771",
   "metadata": {},
   "source": [
    "## Delete In Array"
   ]
  },
  {
   "cell_type": "code",
   "execution_count": null,
   "id": "4cc27585",
   "metadata": {},
   "outputs": [
    {
     "name": "stdout",
     "output_type": "stream",
     "text": [
      "Deleted:  [1 2 4 5]\n",
      "[1 2 3 4 5]\n"
     ]
    }
   ],
   "source": [
    "darr = np.array([1, 2, 3, 4, 5])\n",
    "delete = np.delete(darr, 2)\n",
    "\n",
    "print(\"Deleted: \", delete)\n",
    "print(darr)"
   ]
  }
 ],
 "metadata": {
  "kernelspec": {
   "display_name": "Python 3 (ipykernel)",
   "language": "python",
   "name": "python3"
  },
  "language_info": {
   "codemirror_mode": {
    "name": "ipython",
    "version": 3
   },
   "file_extension": ".py",
   "mimetype": "text/x-python",
   "name": "python",
   "nbconvert_exporter": "python",
   "pygments_lexer": "ipython3",
   "version": "3.13.3"
  }
 },
 "nbformat": 4,
 "nbformat_minor": 5
}
