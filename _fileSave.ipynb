{
 "cells": [
  {
   "cell_type": "markdown",
   "id": "fa09b075",
   "metadata": {},
   "source": [
    "# Save Files, images and more"
   ]
  },
  {
   "cell_type": "code",
   "execution_count": 5,
   "id": "47e34e63",
   "metadata": {},
   "outputs": [],
   "source": [
    "import numpy as np\n"
   ]
  },
  {
   "cell_type": "code",
   "execution_count": 6,
   "id": "f7f82a02",
   "metadata": {},
   "outputs": [],
   "source": [
    "array1 = np.array([[1, 2, 3], [4, 5, 6]])\n",
    "array2 = np.random.rand(3, 3)\n",
    "array3 = np.zeros([4, 4])\n",
    "array4 = np.ones([3, 3])"
   ]
  },
  {
   "cell_type": "markdown",
   "id": "d5462282",
   "metadata": {},
   "source": [
    "## Saves Array in increpted code"
   ]
  },
  {
   "cell_type": "code",
   "execution_count": 7,
   "id": "0395c048",
   "metadata": {},
   "outputs": [],
   "source": [
    "np.save('save/array1.npy', array1)\n",
    "np.save('save/array2.npy', array2)\n",
    "np.save('save/array3.npy', array3)\n",
    "np.save('save/array4.npy', array4)"
   ]
  },
  {
   "cell_type": "code",
   "execution_count": 9,
   "id": "6ae17674",
   "metadata": {},
   "outputs": [
    {
     "name": "stdout",
     "output_type": "stream",
     "text": [
      "[[1 2 3]\n",
      " [4 5 6]]\n",
      "[[0.89781937 0.08295075 0.75402306]\n",
      " [0.2166116  0.62298826 0.70017412]\n",
      " [0.74276875 0.36278243 0.23770267]]\n",
      "[[0. 0. 0. 0.]\n",
      " [0. 0. 0. 0.]\n",
      " [0. 0. 0. 0.]\n",
      " [0. 0. 0. 0.]]\n",
      "[[1. 1. 1.]\n",
      " [1. 1. 1.]\n",
      " [1. 1. 1.]]\n"
     ]
    }
   ],
   "source": [
    "loded_array1 = np.load('save/array1.npy')\n",
    "loded_array2 = np.load('save/array2.npy')\n",
    "loded_array3 = np.load('save/array3.npy')\n",
    "loded_array4 = np.load('save/array4.npy')\n",
    "print(loded_array1)\n",
    "print(loded_array2)\n",
    "print(loded_array3)\n",
    "print(loded_array4)"
   ]
  }
 ],
 "metadata": {
  "kernelspec": {
   "display_name": "venv",
   "language": "python",
   "name": "python3"
  },
  "language_info": {
   "codemirror_mode": {
    "name": "ipython",
    "version": 3
   },
   "file_extension": ".py",
   "mimetype": "text/x-python",
   "name": "python",
   "nbconvert_exporter": "python",
   "pygments_lexer": "ipython3",
   "version": "3.13.3"
  }
 },
 "nbformat": 4,
 "nbformat_minor": 5
}
