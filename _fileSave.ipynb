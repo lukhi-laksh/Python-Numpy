{
 "cells": [
  {
   "cell_type": "markdown",
   "id": "fa09b075",
   "metadata": {},
   "source": [
    "# Save Files, images and more"
   ]
  },
  {
   "cell_type": "code",
   "execution_count": 3,
   "id": "47e34e63",
   "metadata": {},
   "outputs": [],
   "source": [
    "import numpy as np\n",
    "import matplotlib as plt\n"
   ]
  },
  {
   "cell_type": "code",
   "execution_count": null,
   "id": "f7f82a02",
   "metadata": {},
   "outputs": [
    {
     "name": "stdout",
     "output_type": "stream",
     "text": [
      "[[0. 0. 0. 0.]\n",
      " [0. 0. 0. 0.]\n",
      " [0. 0. 0. 0.]\n",
      " [0. 0. 0. 0.]]\n"
     ]
    }
   ],
   "source": [
    "array1 = np.array([[1, 2, 3], [4, 5, 6]])\n",
    "array2 = np.random.rand(3, 3)\n",
    "array3 = np.zeros([4, 4])"
   ]
  },
  {
   "cell_type": "code",
   "execution_count": null,
   "id": "0395c048",
   "metadata": {},
   "outputs": [],
   "source": [
    "np.save('save/array1.npy', array1)\n",
    "np.save('save/array2.npy', array2)\n",
    "np.save('save/array3.npy', array3)"
   ]
  },
  {
   "cell_type": "code",
   "execution_count": 14,
   "id": "6ae17674",
   "metadata": {},
   "outputs": [
    {
     "name": "stdout",
     "output_type": "stream",
     "text": [
      "[[1 2 3]\n",
      " [4 5 6]]\n",
      "[[0.35299316 0.10181119 0.94824084]\n",
      " [0.24845267 0.72870154 0.89557163]\n",
      " [0.40315206 0.09637435 0.38811501]]\n",
      "[[0. 0. 0. 0.]\n",
      " [0. 0. 0. 0.]\n",
      " [0. 0. 0. 0.]\n",
      " [0. 0. 0. 0.]]\n"
     ]
    }
   ],
   "source": [
    "loded_array1 = np.load('save/array1.npy')\n",
    "loded_array2 = np.load('save/array2.npy')\n",
    "loded_array3 = np.load('save/array3.npy')\n",
    "print(loded_array1)\n",
    "print(loded_array2)\n",
    "print(loded_array3)"
   ]
  }
 ],
 "metadata": {
  "kernelspec": {
   "display_name": "Python 3 (ipykernel)",
   "language": "python",
   "name": "python3"
  },
  "language_info": {
   "codemirror_mode": {
    "name": "ipython",
    "version": 3
   },
   "file_extension": ".py",
   "mimetype": "text/x-python",
   "name": "python",
   "nbconvert_exporter": "python",
   "pygments_lexer": "ipython3",
   "version": "3.13.3"
  }
 },
 "nbformat": 4,
 "nbformat_minor": 5
}
