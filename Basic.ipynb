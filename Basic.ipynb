{
 "cells": [
  {
   "cell_type": "markdown",
   "id": "9ca08ccb-9c4e-4e60-bbe2-c418fd298f5c",
   "metadata": {},
   "source": [
    "# Basic and Array"
   ]
  },
  {
   "cell_type": "code",
   "execution_count": 7,
   "id": "1aed4fc6-384d-4362-9301-cf20439ccfda",
   "metadata": {},
   "outputs": [],
   "source": [
    "import numpy as np"
   ]
  },
  {
   "cell_type": "markdown",
   "id": "db5ff52b-4b51-4c82-8bb7-4799cf7dfbbc",
   "metadata": {},
   "source": [
    "### Creating Array from list"
   ]
  },
  {
   "cell_type": "code",
   "execution_count": 8,
   "id": "34aadfc8-a6f5-4350-af22-c5a81c81e858",
   "metadata": {},
   "outputs": [
    {
     "name": "stdout",
     "output_type": "stream",
     "text": [
      "1d array is:  [1 2 3 4]\n"
     ]
    }
   ],
   "source": [
    "arr_1d = np.array([1, 2, 3, 4])\n",
    "print(\"1d array is: \", arr_1d)"
   ]
  },
  {
   "cell_type": "code",
   "execution_count": 10,
   "id": "66929b29-83d8-4256-b478-1aa062c22d29",
   "metadata": {},
   "outputs": [
    {
     "name": "stdout",
     "output_type": "stream",
     "text": [
      "2d array is:  [[1 2 3]\n",
      " [4 5 6]\n",
      " [7 8 9]]\n"
     ]
    }
   ],
   "source": [
    "arr_2d = np.array([[1, 2, 3], [4, 5, 6], [7, 8, 9]])\n",
    "print(\"2d array is: \", arr_2d)"
   ]
  },
  {
   "cell_type": "code",
   "execution_count": null,
   "id": "4ce0f8bb-afd0-476f-9f0d-6247c56c70da",
   "metadata": {},
   "outputs": [],
   "source": []
  }
 ],
 "metadata": {
  "kernelspec": {
   "display_name": "Python 3 (ipykernel)",
   "language": "python",
   "name": "python3"
  },
  "language_info": {
   "codemirror_mode": {
    "name": "ipython",
    "version": 3
   },
   "file_extension": ".py",
   "mimetype": "text/x-python",
   "name": "python",
   "nbconvert_exporter": "python",
   "pygments_lexer": "ipython3",
   "version": "3.13.3"
  }
 },
 "nbformat": 4,
 "nbformat_minor": 5
}
