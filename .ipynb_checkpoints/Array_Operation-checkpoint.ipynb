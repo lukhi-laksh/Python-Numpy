{
 "cells": [
  {
   "cell_type": "markdown",
   "id": "f594fa07",
   "metadata": {},
   "source": [
    "# Array Operations"
   ]
  },
  {
   "cell_type": "code",
   "execution_count": 49,
   "id": "49ae4a69",
   "metadata": {},
   "outputs": [],
   "source": [
    "import numpy as np"
   ]
  },
  {
   "cell_type": "code",
   "execution_count": 50,
   "id": "12ed175f",
   "metadata": {},
   "outputs": [
    {
     "name": "stdout",
     "output_type": "stream",
     "text": [
      "Basic Slicing [3 4 5 6 7]\n",
      "With step [3 5 7]\n",
      "Nagetive Indexing 7\n"
     ]
    }
   ],
   "source": [
    "arr = np.array([1, 2, 3, 4, 5, 6, 7, 8, 9])\n",
    "\n",
    "print(\"Basic Slicing\", arr[2:7])\n",
    "\n",
    "print(\"With step\", arr[2:8:2])\n",
    "\n",
    "print(\"Nagetive Indexing\", arr[-3])"
   ]
  },
  {
   "cell_type": "code",
   "execution_count": 51,
   "id": "9ca03f02",
   "metadata": {},
   "outputs": [
    {
     "name": "stdout",
     "output_type": "stream",
     "text": [
      "[[1 2 3]\n",
      " [4 5 6]\n",
      " [7 8 9]]\n",
      "Specific Element:  6\n",
      "Entire Row:  [7 8 9]\n",
      "Entire Column:  [2 5 8]\n"
     ]
    }
   ],
   "source": [
    "arr_2d = np.array([[1, 2, 3],\n",
    "                   [4, 5, 6],\n",
    "                   [7, 8, 9]])\n",
    "print(arr_2d)\n",
    "\n",
    "print(\"Specific Element: \", arr_2d[1, 2])\n",
    "\n",
    "print(\"Entire Row: \", arr_2d[2])\n",
    "\n",
    "print(\"Entire Column: \", arr_2d[:, 1])\n"
   ]
  },
  {
   "cell_type": "markdown",
   "id": "71524f29",
   "metadata": {},
   "source": [
    "## Sorting"
   ]
  },
  {
   "cell_type": "code",
   "execution_count": 52,
   "id": "e10413f3",
   "metadata": {},
   "outputs": [
    {
     "name": "stdout",
     "output_type": "stream",
     "text": [
      "Soreted Array:  [1 2 3 4 5 6 7 8 9]\n",
      "[[3 1]\n",
      " [2 1]\n",
      " [2 3]]\n",
      "Sorted Column [[2 1]\n",
      " [2 1]\n",
      " [3 3]]\n",
      "Sorted Row [[1 3]\n",
      " [1 2]\n",
      " [2 3]]\n"
     ]
    }
   ],
   "source": [
    "unsorted = np.array([3, 2, 6, 5, 1, 4, 7, 9, 8])\n",
    "print(\"Soreted Array: \", np.sort(unsorted))\n",
    "\n",
    "array_2d = np.array([[3, 1],\n",
    "                     [2, 1],\n",
    "                     [2, 3]])\n",
    "print(array_2d)\n",
    "\n",
    "print(\"Sorted Column\", np.sort(array_2d, axis=0))\n",
    "\n",
    "print(\"Sorted Row\", np.sort(array_2d, axis=1))"
   ]
  },
  {
   "cell_type": "markdown",
   "id": "d8fe4329",
   "metadata": {},
   "source": [
    "## Filter Array"
   ]
  },
  {
   "cell_type": "code",
   "execution_count": null,
   "id": "56e54f99-4bc6-4737-8c1e-40429f8cd9a4",
   "metadata": {},
   "outputs": [],
   "source": []
  }
 ],
 "metadata": {
  "kernelspec": {
   "display_name": "Python 3 (ipykernel)",
   "language": "python",
   "name": "python3"
  },
  "language_info": {
   "codemirror_mode": {
    "name": "ipython",
    "version": 3
   },
   "file_extension": ".py",
   "mimetype": "text/x-python",
   "name": "python",
   "nbconvert_exporter": "python",
   "pygments_lexer": "ipython3",
   "version": "3.13.3"
  }
 },
 "nbformat": 4,
 "nbformat_minor": 5
}
